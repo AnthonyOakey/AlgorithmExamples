{
 "cells": [
  {
   "cell_type": "code",
   "execution_count": 21,
   "metadata": {},
   "outputs": [],
   "source": [
    "\n",
    "#Makes  matching array of the same values\n",
    "#for some reason it wanted to keep modifying coins in place\n",
    "def matcharray(arraybase):\n",
    "    newarray=[]\n",
    "    for item in arraybase:\n",
    "        newarray.append(item)\n",
    "    return newarray\n",
    "\n",
    "#Differentways to make an amount with a possible set.\n",
    "#Returns a list of lists of all possible ways\n",
    "#If set KeepAll is set to true it keeps each possible path and saves them in the last list spot\n",
    "# If KeepAll is false then it keeps every unique count of each possible coin combination\n",
    "# You Can set a limit of how many of each coin can be used\n",
    "def WaysToMakeChange(amount,coins,coinlimit,possibleways,currentway=None,KeepAll=False,theway=[]):\n",
    "    if currentway==None:\n",
    "        currentway=[0]*len(coins)\n",
    "    if round(amount,3)==0:\n",
    "        if currentway in possibleways:\n",
    "            if KeepAll:\n",
    "                q=matcharray(currentway)\n",
    "                q.append(theway)\n",
    "                possibleways.append(q)\n",
    "        else:\n",
    "            possibleways.append(currentway)\n",
    "    elif round(amount,3)>0:\n",
    "        temp=matcharray(currentway)\n",
    "        qq=matcharray(theway)\n",
    "        for coin in range(len(coins)):\n",
    "            if temp[coin]<coinlimit[coin]:\n",
    "                temp[coin]=temp[coin]+1\n",
    "                qq.append(coins[coin])\n",
    "                WaysToMakeChange(amount-coins[coin],coins,coinlimit,possibleways,temp,KeepAll,qq)\n",
    "                temp=matcharray(currentway)\n",
    "                qq=matcharray(theway)\n",
    "        return possibleways\n",
    "    else:\n",
    "        True\n",
    "    "
   ]
  },
  {
   "cell_type": "code",
   "execution_count": 22,
   "metadata": {},
   "outputs": [
    {
     "name": "stdout",
     "output_type": "stream",
     "text": [
      "OK\n",
      "OK\n",
      "OK\n",
      "OK\n",
      "OK\n",
      "OK\n",
      "OK\n",
      "OK\n",
      "OK\n"
     ]
    }
   ],
   "source": [
    "temp=WaysToMakeChange(10,[1,2,3,5],[3,3,3,1],[],None,True)"
   ]
  }
 ],
 "metadata": {
  "kernelspec": {
   "display_name": "Python 3",
   "language": "python",
   "name": "python3"
  },
  "language_info": {
   "codemirror_mode": {
    "name": "ipython",
    "version": 3
   },
   "file_extension": ".py",
   "mimetype": "text/x-python",
   "name": "python",
   "nbconvert_exporter": "python",
   "pygments_lexer": "ipython3",
   "version": "3.7.6"
  }
 },
 "nbformat": 4,
 "nbformat_minor": 4
}
