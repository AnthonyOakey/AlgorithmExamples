{
 "cells": [
  {
   "cell_type": "code",
   "execution_count": 134,
   "metadata": {},
   "outputs": [],
   "source": [
    "\n",
    "#Returns an array replacing all common words with dashes\n",
    "def replacetext(text,replace,replacecharacter='-'):\n",
    "    text=text.lower()\n",
    "    for item in replace:\n",
    "        text=text.replace(item,replacecharacter*len(item))\n",
    "    return text\n",
    "#Detects Plagerism between two papers\n",
    "def detectplagerism(texttest,plagtext,minlength=5,commonwords=[],replacecharacter='-',plaged=None):\n",
    "    #clean text removing common words not to be considered plagarized\n",
    "    texttest=replacetext(texttest,commonwords,replacecharacter)\n",
    "    plagtext=replacetext(plagtext,commonwords,replacecharacter)\n",
    "    #Creates array same size as text filled with False, That will turn true if plagiarized\n",
    "    if plaged==None:\n",
    "        plaged=[False]*len(texttest)\n",
    "    #Max length of part plagarized and what it was\n",
    "    maxx=0\n",
    "    maxxstr=''\n",
    "    \n",
    "    for n in range(len(texttest)):\n",
    "        for m in range(len(plagtext)):\n",
    "            if texttest[n]==plagtext[m] and texttest[n]!=replacecharacter:\n",
    "                count=0\n",
    "             \n",
    "                try:\n",
    "                    while texttest[n+count]==plagtext[m+count]:\n",
    "                        count=count+1\n",
    "                except:\n",
    "                    True\n",
    "                if count>maxx:\n",
    "                    maxxstr=texttest[n:n+count]\n",
    "                    \n",
    "                    maxx=count\n",
    "                #Only sets to True if the length is longer than minlength\n",
    "                if count>minlength:\n",
    "                    for cheat in range(count):\n",
    "                        plaged[n+cheat]=True\n",
    "    print ('{} Max Amount is. The String is {} '.format(maxx,maxxstr))\n",
    "    return plaged\n",
    "                    \n",
    "                \n",
    "#If you used the plaged list it will return the text where the Capitalized portion is plagiarized                \n",
    "def CapitalizePlaged(text,plaged):\n",
    "    text=text.lower()\n",
    "    text=list(text)\n",
    "    for one in range(len(plaged)):\n",
    "        if plaged[one]==True:\n",
    "            text[one]=str(text[one]).upper()\n",
    "    return ''.join(text)    "
   ]
  }
 ],
 "metadata": {
  "kernelspec": {
   "display_name": "Python 3",
   "language": "python",
   "name": "python3"
  },
  "language_info": {
   "codemirror_mode": {
    "name": "ipython",
    "version": 3
   },
   "file_extension": ".py",
   "mimetype": "text/x-python",
   "name": "python",
   "nbconvert_exporter": "python",
   "pygments_lexer": "ipython3",
   "version": "3.7.6"
  }
 },
 "nbformat": 4,
 "nbformat_minor": 4
}
